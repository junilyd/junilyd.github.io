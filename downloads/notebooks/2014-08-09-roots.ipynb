{
 "metadata": {
  "name": "",
  "signature": "sha256:f207e365e799367c5ef644072a76e5af09f63f4cbdeb848752c5713f219416bf"
 },
 "nbformat": 3,
 "nbformat_minor": 0,
 "worksheets": [
  {
   "cells": [
    {
     "cell_type": "markdown",
     "metadata": {},
     "source": [
      "Since it sometimes is required to calculate the square root of some number. This job seems actually quite easy by simply solving the equation for the square root of 2. $$x^2 - 2 = 0 \\Rightarrow x = \\sqrt{2} \\approx 1.41$$. However, when we need to define how a simple computer is suppose to calculate the square root numerically, we can use a numerical method. (insert link here) i.e Newtons Method. In my B.Sc project, this semester, was in embedded signal processing, designing and implenting a GFSK-Demodualtor in a fixed point DSP. Therefore, I came across some interesting numerical algorithms for all kinds of signal processing algorithms. It is often necessary to calculate the length of a complex vector, which yields a calculation of the square root. In the following some approximation algorithms, will lead to an example of a fixed point numerical calculation. This I thought is an obvious subject for my first blog post. "
     ]
    },
    {
     "cell_type": "markdown",
     "metadata": {},
     "source": [
      "Newtons method "
     ]
    },
    {
     "cell_type": "code",
     "collapsed": false,
     "input": [
      "'''\n",
      "Module for approximating the square root\n",
      "Input\n",
      "        x: The number for which the square root is approximated.\n",
      "output\n",
      "        s:  The requested square root.\n",
      "'''\n",
      "def newton(x,debug=False):\n",
      "    '''newton(x)'''\n",
      "    \n",
      "    from numpy import nan\n",
      "\n",
      "    x = float(x)\n",
      "    if x==0.:\n",
      "        return 0.\n",
      "    elif x<0.:\n",
      "        print '*** Error, x must be nonnegative'\n",
      "        return nan\n",
      "    assert x>0. and type(x) is float,\"Unrecognized input\"\n",
      "    \n",
      "    s = x/5.\n",
      "    kmax = 100\n",
      "    tol = 1.e-14\n",
      "    for k in range(kmax):\n",
      "        if debug:\n",
      "            print \"Before iteration %s, s = %20.15f\" % (k,s)\n",
      "        s0 = s\n",
      "        s = 1./2. * (s + x/s)\n",
      "        delta_s = s - s0\n",
      "        if abs(delta_s / x) < tol:\n",
      "            break\n",
      "    if debug:\n",
      "        print \"After %s iterations, s = %20.15f\" % (k+1,s)\n",
      "    return s\n",
      "\n",
      "def test():\n",
      "    from numpy import sqrt\n",
      "    import mysqrt\n",
      "\n",
      "    xvalues =[0., 2., 100., 10000, 1.e-4]\n",
      "    for x in xvalues:\n",
      "        print 'Testing with x = %20.15e' % x\n",
      "        s = mysqrt.newton(x)\n",
      "        s_numpy = sqrt(x)\n",
      "        print 's = %20.15e,   numpy.sqrt = %20.15e' \\\n",
      "                % (s, s_numpy)\n",
      "        assert abs(s-s_numpy) < 1.e-14, \\\n",
      "                'Disagree for x = %20.15e' % x\n"
     ],
     "language": "python",
     "metadata": {},
     "outputs": [],
     "prompt_number": 3
    },
    {
     "cell_type": "code",
     "collapsed": false,
     "input": [],
     "language": "python",
     "metadata": {},
     "outputs": []
    }
   ],
   "metadata": {}
  }
 ]
}
