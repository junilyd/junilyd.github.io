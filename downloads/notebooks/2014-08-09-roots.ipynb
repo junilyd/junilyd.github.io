{
 "metadata": {
  "name": "",
  "signature": "sha256:351544e78870793f0ca12c69cfc6f3bb73cd605473d19c6848cc03c9768ba0aa"
 },
 "nbformat": 3,
 "nbformat_minor": 0,
 "worksheets": [
  {
   "cells": [
    {
     "cell_type": "markdown",
     "metadata": {},
     "source": [
      "A Root of less evil"
     ]
    },
    {
     "cell_type": "markdown",
     "metadata": {},
     "source": [
      "Since it sometimes is required to calculate the square root of some number. This job seems actually quite easy by simply solving the equation for the square root of 2. $$x^2 - 2 = 0 \\Rightarrow \\sqrt{2} \\approx 1.41$$. However, when we need to define how a simple computer is suppose to calculate the square root numerically, we can use Newtons numerical method. (insert link here). In my B.Sc project which was in embedded signal processing, emdbedding in a fixed point DSP. Therefore I came across some interesting algorithms for implementing such an algorithm in fixed point arithmetic. This is obvious subject for first blog post here. "
     ]
    },
    {
     "cell_type": "code",
     "collapsed": false,
     "input": [
      "'''\n",
      "Module for approximating the square root\n",
      "Input\n",
      "        x: The number for which the square root is approximated.\n",
      "output\n",
      "        s:  The requested square root.\n",
      "'''\n",
      "def newton(x,debug=False):\n",
      "    '''newton(x)'''\n",
      "    \n",
      "    from numpy import nan\n",
      "\n",
      "    x = float(x)\n",
      "    if x==0.:\n",
      "        return 0.\n",
      "    elif x<0.:\n",
      "        print '*** Error, x must be nonnegative'\n",
      "        return nan\n",
      "    assert x>0. and type(x) is float,\"Unrecognized input\"\n",
      "    \n",
      "    s = x/5.\n",
      "    kmax = 100\n",
      "    tol = 1.e-14\n",
      "    for k in range(kmax):\n",
      "        if debug:\n",
      "            print \"Before iteration %s, s = %20.15f\" % (k,s)\n",
      "        s0 = s\n",
      "        s = 1./2. * (s + x/s)\n",
      "        delta_s = s - s0\n",
      "        if abs(delta_s / x) < tol:\n",
      "            break\n",
      "    if debug:\n",
      "        print \"After %s iterations, s = %20.15f\" % (k+1,s)\n",
      "    return s\n",
      "\n",
      "def test():\n",
      "    from numpy import sqrt\n",
      "    import mysqrt\n",
      "\n",
      "    xvalues =[0., 2., 100., 10000, 1.e-4]\n",
      "    for x in xvalues:\n",
      "        print 'Testing with x = %20.15e' % x\n",
      "        s = mysqrt.newton(x)\n",
      "        s_numpy = sqrt(x)\n",
      "        print 's = %20.15e,   numpy.sqrt = %20.15e' \\\n",
      "                % (s, s_numpy)\n",
      "        assert abs(s-s_numpy) < 1.e-14, \\\n",
      "                'Disagree for x = %20.15e' % x\n"
     ],
     "language": "python",
     "metadata": {},
     "outputs": [],
     "prompt_number": 3
    },
    {
     "cell_type": "code",
     "collapsed": false,
     "input": [],
     "language": "python",
     "metadata": {},
     "outputs": []
    }
   ],
   "metadata": {}
  }
 ]
}
