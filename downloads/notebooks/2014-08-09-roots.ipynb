{
 "metadata": {
  "name": "",
  "signature": "sha256:eab5508a269e1e2b9ef59ed71acc4cc019ac4a2248654a314253513afaf470d0"
 },
 "nbformat": 3,
 "nbformat_minor": 0,
 "worksheets": [
  {
   "cells": [
    {
     "cell_type": "markdown",
     "metadata": {},
     "source": [
      "Since it sometimes is required to calculate the square root of some number. This job is straight forward by solving the 2nd order equation for the square root of 2 i.e. $$ x^2 \u2212 2 = 0 \\Rightarrow x = \\sqrt{2} \\approx 1.41$$ \n",
      "However, when we need to define how a computer is suppose to calculate the square root, we can use numerical methods. (insert link here). In my B.Sc project which was in embedded signal processing, emdbedding in a fixed point DSP. Therefore I came across some interesting algorithms for implementing such an algorithm in fixed point arithmetic. This is obvious subject for first blog post here."
     ]
    },
    {
     "cell_type": "code",
     "collapsed": false,
     "input": [],
     "language": "python",
     "metadata": {},
     "outputs": []
    }
   ],
   "metadata": {}
  }
 ]
}
