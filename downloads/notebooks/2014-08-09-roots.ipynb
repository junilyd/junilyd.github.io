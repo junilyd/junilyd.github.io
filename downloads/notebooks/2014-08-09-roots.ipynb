{
 "metadata": {
  "name": "",
  "signature": "sha256:8761ab6edb7c8b46f0d020d7e312344f8f0422c6aeea3e13811943f5edcb5f34"
 },
 "nbformat": 3,
 "nbformat_minor": 0,
 "worksheets": [
  {
   "cells": [
    {
     "cell_type": "markdown",
     "metadata": {},
     "source": [
      "Since it sometimes is required to calculate the square root of some number. This job is straight forward by solving the 2nd order equation for the square root of 2 i.e. \n",
      "\\begin{equation}\n",
      "x^2 \u2212 2 = 0 \\Rightarrow x = \\sqrt{2} \\approx 1.41\n",
      "\\end{equation}\n",
      "\n",
      "However, when we need to define how a computer is suppose to calculate the square root, we can use numerical methods. I finished my B.Sc.EE project this semester. The project theme was Embedded Signal Processing with the design and implementation of a GFSK-Demodulator for Satellite Communication, in a fixed point DSP. For the design it was necessary to calculate the Magnitude $M$ of a complex number $I + jQ$ which is defined as $M = \\sqrt{I^2 + Q^2}$. Therefore, I came across several interesting algorithms for approximation of the square root in fixed point arithmetic. I believe this is an obvious subject for my first blog post here, where I will demonstrate some of these in Python, starting with Newtons Method.\n",
      "\n",
      "Newtons Method is an iterative approach, with an initial guess, $s$, as seen here \n",
      "\n",
      "$$ s = \\frac{1}{2}(s + x/s)$$\n",
      "\n",
      "where $x$ is the number from which it is desired to calculate the square root.\n",
      "\n",
      "As an example, if we want to calculate the square root of 25 we can make a loop like this.\n",
      "\n"
     ]
    },
    {
     "cell_type": "code",
     "collapsed": false,
     "input": [
      "x = 25.\n",
      "s = 1.\n",
      "kmax = 6\n",
      "for k in range(kmax):\n",
      "    s = 1./2. * (s + x/s)\n",
      "    print \"After %s iterations, s = %20.15f\" % (k+1,s)\n",
      "\n"
     ],
     "language": "python",
     "metadata": {},
     "outputs": [
      {
       "output_type": "stream",
       "stream": "stdout",
       "text": [
        "After 1 iterations, s =   13.000000000000000\n",
        "After 2 iterations, s =    7.461538461538462\n",
        "After 3 iterations, s =    5.406026962727994\n",
        "After 4 iterations, s =    5.015247601944898\n",
        "After 5 iterations, s =    5.000023178253949\n",
        "After 6 iterations, s =    5.000000000053722\n"
       ]
      }
     ],
     "prompt_number": 11
    },
    {
     "cell_type": "markdown",
     "metadata": {},
     "source": [
      "Newtons Methods approaches the correct answer rather quick, compared to the initial guess being $1$, which is relatively far from $5$. An automatic guess could be the fraction i.e\n",
      "\n",
      "$$                                             s = \\frac{x}{4}$$\n",
      "\n"
     ]
    },
    {
     "cell_type": "code",
     "collapsed": false,
     "input": [
      "x = 25.\n",
      "s = x/4.\n",
      "kmax = 6\n",
      "for k in range(kmax):\n",
      "    s = 1./2. * (s + x/s)\n",
      "    print \"After %s iterations, s = %20.15f\" % (k+1,s)"
     ],
     "language": "python",
     "metadata": {},
     "outputs": [
      {
       "output_type": "stream",
       "stream": "stdout",
       "text": [
        "After 1 iterations, s =    5.125000000000000\n",
        "After 2 iterations, s =    5.001524390243903\n",
        "After 3 iterations, s =    5.000000232305737\n",
        "After 4 iterations, s =    5.000000000000005\n",
        "After 5 iterations, s =    5.000000000000000\n",
        "After 6 iterations, s =    5.000000000000000\n"
       ]
      }
     ],
     "prompt_number": 12
    },
    {
     "cell_type": "markdown",
     "metadata": {},
     "source": [
      "Then the square root approximation algorithm has reached the correct $5$ already after 4 iterations, which is quite fair. \n",
      "\n",
      "Another situation is when we have a fixed point machine for implementing such an algorithm. In such a situation we have to work primarily with numbers which is a power of $2$. Any mulitplication or division with a power of two is normally done without mulitplying, since it can be done by a shifting the binary registers from inside the ALU.\n",
      "\n",
      "\n",
      "When calculating the complex magnitude $M = \\sqrt{I^2 + Q^2}$ as described above a similar procedure can be utilized. To approximate the square root operation, the Binary-Shift Magitude Estimation can be used to estimate $M$.\n",
      "\n",
      "$$ M \\approx A\\text{M}_{ax} + B\\text{M}_{in}$$                   \n",
      "where $A=\\frac{15}{16}, B = \\frac{15}{32}$ which is similar sizes as used in Newtons Method \n"
     ]
    },
    {
     "cell_type": "code",
     "collapsed": false,
     "input": [
      "I = 3.\n",
      "J = 11.\n",
      "A = 15/16.\n",
      "B = 15/32.\n",
      "\n",
      "if I > J:\n",
      "    M = A*I + B*J\n",
      "else:\n",
      "    M = B*I + A*J\n",
      "print \"M = %10.5f\" %M\n",
      "\n",
      "M2 = sqrt(I**2 + J**2)\n",
      "print \"M = %10.5f\" %M2"
     ],
     "language": "python",
     "metadata": {},
     "outputs": [
      {
       "output_type": "stream",
       "stream": "stdout",
       "text": [
        "M =   11.71875\n",
        "M =   11.40175\n"
       ]
      }
     ],
     "prompt_number": 132
    },
    {
     "cell_type": "markdown",
     "metadata": {},
     "source": [
      "This algorithm\u2019s appeal is that it requires no explicit multiples because the $A$ and $B$ values are binary fractions and the formula is implemented with simple binary right-shifts, additions, and subtractions. (For example, a 15/32 times $I$ multiply can be performed by first shifting $I$ right by four bits and subtracting that number from $I$ to obtain 15/16 times z. That result is then shifted right one bit). This is simulated in the following script."
     ]
    },
    {
     "cell_type": "code",
     "collapsed": false,
     "input": [
      "I = 3\n",
      "J = 11\n",
      "J4=J>>4; J5=J>>5; I4=I>>4; I5=I>>5;\n",
      "\n",
      "if I > J:\n",
      "    M = (I-I4) + ((J-J5)>>1)\n",
      "else:\n",
      "    M = (J-J4) + ((I-I5)>>1)\n",
      "print \"M = %10.5f\" %M\n",
      "\n",
      "## For comparison\n",
      "M2 = sqrt(I**2 + J**2)\n",
      "print \"M2 = %10.5f\" %M2"
     ],
     "language": "python",
     "metadata": {},
     "outputs": [
      {
       "output_type": "stream",
       "stream": "stdout",
       "text": [
        "M =   12.00000\n",
        "M2 =   11.40175\n"
       ]
      }
     ],
     "prompt_number": 160
    },
    {
     "cell_type": "markdown",
     "metadata": {},
     "source": [
      "Many combinations of $A$ and $B$ are provided in scientific litterature, yielding various accuracies for estimating $M$. All these algorithms are open to modification and experimentation. This will make them more accurate and computationally expensive, or less accurate and computationally less demanding. Your accuracy and data throughput needs determine the path you take to a root of less evil. \n",
      "\n",
      "Further reading about this subject can be suggested here:\n",
      "\n",
      "\n",
      "[A Root Less Evil - DSP tips & tricks](https://www.google.com/url?sa=t&rct=j&q=&esrc=s&source=web&cd=2&cad=rja&uact=8&ved=0CCcQFjAB&url=https%3A%2F%2Fminds.wisconsin.edu%2Fbitstream%2Fhandle%2F1793%2F9200%2Ffile_1.pdf%3Fsequence%3D1&ei=X4zmU6P4E6iaygOeyoHIDQ&usg=AFQjCNFNnWHNdL0lFLmMT2FOB-fYjE71sg&sig2=8mcC-PpsDU0SYVcafYsDHg&bvm=bv.72676100,d.bGQ)\n",
      "\n",
      "Lastly, a small piece of square root code is submitted."
     ]
    }
   ],
   "metadata": {}
  }
 ]
}