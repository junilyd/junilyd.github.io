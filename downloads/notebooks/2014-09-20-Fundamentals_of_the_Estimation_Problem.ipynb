{
 "metadata": {
  "name": "",
  "signature": "sha256:d4d328ee906e0ec9bf3a40ed6de208fec5ab3767fd006f1dc9d37ce9902b4d7d"
 },
 "nbformat": 3,
 "nbformat_minor": 0,
 "worksheets": [
  {
   "cells": [
    {
     "cell_type": "markdown",
     "metadata": {},
     "source": [
      "## The Mathematical Estimation Problem\n",
      "Since our study group has planned to design a poly tuner, by utilizing multi pitch estimation, this is a brief investigation into the basics of estimation theory. "
     ]
    },
    {
     "cell_type": "markdown",
     "metadata": {},
     "source": [
      "The N-point dataset is $\\texttt{x} = \\{x[0], x[1], ... ,x[N-1] \\}$ is dependent on an unknown parameter $\\theta$, which is to be determined based on the data. Therefore, an estimator $\\hat{\\theta}$ is defined as \n",
      "\\begin{equation}\n",
      "    \\hat{\\theta} = g(\\texttt{x})\n",
      "\\end{equation}\n",
      "When determining good estimators the first step is to mathematically model the data. Because the data are random, it is described by its probability density function (PDF).\n",
      "\n"
     ]
    },
    {
     "cell_type": "markdown",
     "metadata": {},
     "source": [
      "\\begin{equation}\n",
      "    p(\\texttt{x};\\theta) = \\frac{1}{\\sqrt{2\\pi\\sigma^2}}\\exp\\left[{ -\\frac{1}{2\\sigma^2} (\\texttt{x} - \\theta )^2}\\right]\n",
      "\\end{equation}"
     ]
    },
    {
     "cell_type": "code",
     "collapsed": false,
     "input": [
      "import pymatbridge as mpb\n",
      "ip = get_ipython()\n",
      "mpb.load_ipython_extension(ip)"
     ],
     "language": "python",
     "metadata": {},
     "outputs": [
      {
       "output_type": "stream",
       "stream": "stdout",
       "text": [
        "Starting MATLAB on ZMQ socket ipc:///tmp/pymatbridge\n",
        "Send 'exit' command to kill the server\n",
        "."
       ]
      },
      {
       "output_type": "stream",
       "stream": "stdout",
       "text": [
        "MATLAB started and connected!\n"
       ]
      }
     ],
     "prompt_number": 1
    },
    {
     "cell_type": "code",
     "collapsed": false,
     "input": [
      "\n",
      "%%matlab\n",
      "sigma = 1;\n",
      "theta1 =-14; theta2 = theta1+10; theta3 = theta2+10;\n",
      "        \n",
      "x0 = linspace(theta1-5,theta3+5,1000);\n",
      "\n",
      "theta = theta1;\n",
      "p1 = 1./sqrt(2*pi*sigma.^2) .* exp( -(1)./(2*sigma.^2).*(x0-theta1).^2 );\n",
      "p2 = 1./sqrt(2*pi*sigma.^2) .* exp( -(1)./(2*sigma.^2).*(x0-theta2).^2 );\n",
      "p3 = 1./sqrt(2*pi*sigma.^2) .* exp( -(1)./(2*sigma.^2).*(x0-theta3).^2 );\n",
      "plot(x0,p1,'k',x0,p2,'.k',x0,p3,'--k','linewidth',2)\n",
      "\n",
      "title('Dependence of PDF on unknown parameter \\theta','fontsize',18)\n",
      "xlabel('x[0]','fontsize',16)\n",
      "ylabel('p(x[0];\\theta)','fontsize',16)\n",
      "legend(sprintf('\\\\theta = %1.0f',theta1),sprintf('\\\\theta = %1.0f',theta2),sprintf('\\\\theta = %3.0f',theta3))"
     ],
     "language": "python",
     "metadata": {},
     "outputs": [
      {
       "metadata": {},
       "output_type": "display_data",
       "png": "[encoded data removed]"
      }
     ],
     "prompt_number": 2
    },
    {
     "cell_type": "code",
     "collapsed": false,
     "input": [],
     "language": "python",
     "metadata": {},
     "outputs": [],
     "prompt_number": 67
    },
    {
     "cell_type": "code",
     "collapsed": false,
     "input": [],
     "language": "python",
     "metadata": {},
     "outputs": []
    }
   ],
   "metadata": {}
  }
 ]
}