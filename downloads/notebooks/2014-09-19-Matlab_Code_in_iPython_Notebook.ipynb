{
 "metadata": {
  "name": "",
  "signature": "sha256:19f935b17de748e1c5733dd366eee5132adba7cf125f8fd427b2f5bd7fe938ac"
 },
 "nbformat": 3,
 "nbformat_minor": 0,
 "worksheets": [
  {
   "cells": [
    {
     "cell_type": "markdown",
     "metadata": {},
     "source": [
      "# MATLAB code in iPython Notebook\n",
      "I was very pleased today to find out that some people made a library which makes it possible to utilize MATLAB code directly in the iPython Notebook, which  this webpage is written in.\n",
      "As you see in the In[134] the library is called pymatbridge.\n",
      "For me personally it is advantage because most of the material at this semester is based on utilizing MATLAB libraries, so now this webpage is directly compatible with my daily work, with $\\LaTeX$,\n",
      "MATLAB and Python."
     ]
    },
    {
     "cell_type": "markdown",
     "metadata": {},
     "source": [
      "## Importing pymatbridge and starting MATLAB\n",
      "This is how to enable the bridge."
     ]
    },
    {
     "cell_type": "code",
     "collapsed": false,
     "input": [
      "import pymatbridge as mpb\n",
      "ip = get_ipython()\n",
      "mpb.load_ipython_extension(ip)"
     ],
     "language": "python",
     "metadata": {},
     "outputs": []
    },
    {
     "cell_type": "markdown",
     "metadata": {},
     "source": [
      "## Example of plotting"
     ]
    },
    {
     "cell_type": "code",
     "collapsed": false,
     "input": [
      "%%matlab\n",
      "a= linspace(0,6*pi,1000);\n",
      "plot(sin(a)+0.25*sin(20*a+0.5*pi))\n",
      "title('Test Plot of Amplitude Modulation Signal','fontsize',18)\n",
      "xlabel('n','fontsize',16)\n",
      "ylabel('f(n)','fontsize',16)"
     ],
     "language": "python",
     "metadata": {},
     "outputs": []
    },
    {
     "cell_type": "markdown",
     "metadata": {},
     "source": [
      "## Matrix Syntax and Covariance Matrices"
     ]
    },
    {
     "cell_type": "markdown",
     "metadata": {},
     "source": [
      "### Covariance Matrix\n",
      "Now we will show how to calculate the covariance matrix by matrix multiplications.\n"
     ]
    },
    {
     "cell_type": "code",
     "collapsed": false,
     "input": [
      "%%matlab\n",
      "format compact\n",
      "    X =  [1+j 2-j;3+j 4-j]\n",
      "    [m,n] = size(X);\n",
      "    ONE = ones(1,m)\n",
      "    \n",
      "    X_bar = mean(X)\n",
      "    X_bar = (X_bar'*ONE)'\n",
      "    \n",
      "    R = X-X_bar\n",
      "    \n",
      "    Covariance = (R'*R)/(m-1)"
     ],
     "language": "python",
     "metadata": {},
     "outputs": []
    },
    {
     "cell_type": "markdown",
     "metadata": {},
     "source": [
      "And basically, the correlation matrix is a scaled version of the covariance matrix.\n",
      "It is scaled to the sample variance as follows:\n",
      "Firstly, we define the covariance as $\\sigma$ and the correlation $C$"
     ]
    },
    {
     "cell_type": "markdown",
     "metadata": {},
     "source": [
      "\n",
      "\n",
      "\\begin{equation}\n",
      "    C_{ik} = \\frac{\\sigma_{ik}}{\\sqrt{\\sigma{ii}}\\sqrt{\\sigma{kk}}}\n",
      "\\end{equation}"
     ]
    },
    {
     "cell_type": "markdown",
     "metadata": {},
     "source": [
      "## Correlation Between Two Vectors\n",
      "Now we will do a quick example of plotting the correlation between 2 measurements of 400 random samples. Therefore, they do show no correlation."
     ]
    },
    {
     "cell_type": "code",
     "collapsed": false,
     "input": [
      "%%matlab\n",
      "    X=rand(400,2);\n",
      "    x_bar = mean(X)'\n",
      "\n",
      "    x_covar = cov(X)\n",
      "    \n",
      "    x_corr = corr(X)\n",
      "\n",
      "    R = corrcoef(X)\n",
      "\n",
      "    Sn = x_covar; fprintf('\\n------------------------------------------------\\n'); \n",
      "\n",
      "    figure\n",
      "    a=1;b=2;\n",
      "    scatterhist(X(:,a),X(:,b),100);\n",
      "    xlabel(sprintf('Column %1.0f',a),'Fontsize',15); ylabel(sprintf('Column %1.0f',b),'fontsize',15);\n"
     ],
     "language": "python",
     "metadata": {},
     "outputs": []
    }
   ],
   "metadata": {}
  }
 ]
}