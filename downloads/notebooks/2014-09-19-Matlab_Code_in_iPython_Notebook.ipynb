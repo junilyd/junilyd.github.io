{
 "metadata": {
  "name": "",
  "signature": "sha256:fe335b97492b1e5355b26eaa1cd19ba0d3e3b6be6b9a7b1bd8c87097705d0c6d"
 },
 "nbformat": 3,
 "nbformat_minor": 0,
 "worksheets": [
  {
   "cells": [
    {
     "cell_type": "markdown",
     "metadata": {},
     "source": [
      "I was very pleased today to find out that some people made a library which makes it possible to utilize MATLAB code directly in the iPython Notebook, which  this webpage is written in.\n",
      "As you see in the In[134] the library is called pymatbridge.\n",
      "For me personally this is advantageous because most of the material at this semester is based on utilizing MATLAB libraries, so now this webpage is directly compatible with my daily work, with $\\LaTeX$,\n",
      "MATLAB and Python."
     ]
    },
    {
     "cell_type": "markdown",
     "metadata": {},
     "source": [
      "## Importing pymatbridge and starting MATLAB\n",
      "This is how to enable the bridge."
     ]
    },
    {
     "cell_type": "code",
     "collapsed": false,
     "input": [
      "import pymatbridge as mpb\n",
      "ip = get_ipython()\n",
      "mpb.load_ipython_extension(ip)"
     ],
     "language": "python",
     "metadata": {},
     "outputs": [],
     "prompt_number": 2
    },
    {
     "cell_type": "markdown",
     "metadata": {},
     "source": [
      "## Example of plotting"
     ]
    },
    {
     "cell_type": "code",
     "collapsed": false,
     "input": [
      "%%matlab\n",
      "a= linspace(0,6*pi,1000);\n",
      "plot(sin(a)+0.25*sin(20*a+0.5*pi))\n",
      "title('Test Plot of Amplitude Modulation Signal','fontsize',18)\n",
      "xlabel('n','fontsize',16)\n",
      "ylabel('f(n)','fontsize',16)"
     ],
     "language": "python",
     "metadata": {},
     "outputs": [
      {
       "metadata": {},
       "output_type": "display_data",
       "png": "[encoded data removed]"
      }
     ],
     "prompt_number": 3
    },
    {
     "cell_type": "markdown",
     "metadata": {},
     "source": [
      "## Matrix Syntax and Covariance Matrices"
     ]
    },
    {
     "cell_type": "markdown",
     "metadata": {},
     "source": [
      "### Covariance Matrix\n",
      "Now we will show how to calculate the covariance matrix by matrix multiplications.\n"
     ]
    },
    {
     "cell_type": "code",
     "collapsed": false,
     "input": [
      "%%matlab\n",
      "format compact\n",
      "    X =  [1+j 2-j;3+j 4-j]\n",
      "    [m,n] = size(X);\n",
      "    ONE = ones(1,m)\n",
      "    \n",
      "    X_bar = mean(X)\n",
      "    X_bar = (X_bar'*ONE)'\n",
      "    \n",
      "    R = X-X_bar\n",
      "    \n",
      "    Covariance = (R'*R)/(m-1)"
     ],
     "language": "python",
     "metadata": {},
     "outputs": [
      {
       "metadata": {},
       "output_type": "display_data",
       "text": [
        "X =\n",
        "   1.0000 + 1.0000i   2.0000 - 1.0000i\n",
        "   3.0000 + 1.0000i   4.0000 - 1.0000i\n",
        "ONE =\n",
        "     1     1\n",
        "X_bar =\n",
        "   2.0000 + 1.0000i   3.0000 - 1.0000i\n",
        "X_bar =\n",
        "   2.0000 + 1.0000i   3.0000 - 1.0000i\n",
        "   2.0000 + 1.0000i   3.0000 - 1.0000i\n",
        "R =\n",
        "    -1    -1\n",
        "     1     1\n",
        "Covariance =\n",
        "     2     2\n",
        "     2     2\n"
       ]
      }
     ],
     "prompt_number": 4
    },
    {
     "cell_type": "markdown",
     "metadata": {},
     "source": [
      "And basically, the correlation matrix is a scaled version of the covariance matrix.\n",
      "It is scaled to the sample variance as follows:\n",
      "Firstly, we define the covariance as $\\sigma$ and the correlation $C$"
     ]
    },
    {
     "cell_type": "markdown",
     "metadata": {},
     "source": [
      "\n",
      "\n",
      "\\begin{equation}\n",
      "    C_{ik} = \\frac{\\sigma_{ik}}{\\sqrt{\\sigma{ii}}\\sqrt{\\sigma{kk}}}\n",
      "\\end{equation}"
     ]
    },
    {
     "cell_type": "markdown",
     "metadata": {},
     "source": [
      "## Correlation Between Two Vectors\n",
      "Now we will do a quick example of plotting the correlation between 2 measurements of 400 random samples. Therefore, they do show no correlation."
     ]
    },
    {
     "cell_type": "code",
     "collapsed": false,
     "input": [
      "%%matlab\n",
      "    X=rand(400,2);\n",
      "    x_bar = mean(X)'\n",
      "\n",
      "    x_covar = cov(X)\n",
      "    \n",
      "    x_corr = corr(X)\n",
      "\n",
      "    R = corrcoef(X)\n",
      "\n",
      "    Sn = x_covar; fprintf('\\n------------------------------------------------\\n'); \n",
      "\n",
      "    figure\n",
      "    a=1;b=2;\n",
      "    scatterhist(X(:,a),X(:,b),100);\n",
      "    xlabel(sprintf('Column %1.0f',a),'Fontsize',15); ylabel(sprintf('Column %1.0f',b),'fontsize',15);\n"
     ],
     "language": "python",
     "metadata": {},
     "outputs": [
      {
       "metadata": {},
       "output_type": "display_data",
       "text": [
        "x_bar =\n",
        "    0.4997\n",
        "    0.4969\n",
        "x_covar =\n",
        "    0.0783    0.0007\n",
        "    0.0007    0.0801\n",
        "x_corr =\n",
        "    1.0000    0.0088\n",
        "    0.0088    1.0000\n",
        "R =\n",
        "    1.0000    0.0088\n",
        "    0.0088    1.0000\n",
        "\n",
        "------------------------------------------------\n"
       ]
      },
      {
       "metadata": {},
       "output_type": "display_data",
       "png": "[encoded data removed]"
      }
     ],
     "prompt_number": 5
    }
   ],
   "metadata": {}
  }
 ]
}
