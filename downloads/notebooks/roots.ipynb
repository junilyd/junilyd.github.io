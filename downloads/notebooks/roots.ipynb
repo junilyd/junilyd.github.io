{
 "metadata": {
  "name": "",
  "signature": "sha256:c362f64491637f50d86fa560ac674e456cf3d2ab64be2402978364b7e4dd5bee"
 },
 "nbformat": 3,
 "nbformat_minor": 0,
 "worksheets": [
  {
   "cells": [
    {
     "cell_type": "markdown",
     "metadata": {},
     "source": [
      "Since it sometimes is required to calculate the square root of some number. This job is straight forward by solving the 2nd order equation for the square root of 2 i.e. \n",
      "\n",
      "$$ x^2 \u2212 2 = 0 \\Rightarrow x = \\sqrt{2} \\approx 1.41$$\n",
      "\n",
      "\n",
      "However, when we need to define how a computer is suppose to calculate the square root, we can use numerical methods. I finished my B.Sc.EE project this semster. The project theme was Embedded Signal Processing with the design and implementation of a GFSK-Demodulator for Satellite Communication, in a fixed point DSP. For the design it was necessary to calculate the Magnitude $M$ of a complex number $I + jQ$ which is defined as $M = \\sqrt{I^2 + Q^2}$. Therefore, I came across several interesting algorithms for approximation of the square root in fixed point arithmetic. I believe this is an obvious subject for first blog post here, where I will demonstrate these in Python, starting with Newtons Method.\n",
      "\n",
      "Newtons Method is an iterative approach, with an initial guess, $s$, as seen here \n",
      "\n",
      "$$ s = \\frac{1}{2}(s + x/s)$$\n",
      "\n",
      "where $x$ is the number from which it is desired to calculate the square root.\n",
      "\n",
      "As an example, if we want to calculate the square root of 25 we can make a loop like this.\n",
      "\n"
     ]
    },
    {
     "cell_type": "code",
     "collapsed": false,
     "input": [
      "x = 25.\n",
      "s = 1.\n",
      "kmax = 6\n",
      "for k in range(kmax):\n",
      "    s = 1./2. * (s + x/s)\n",
      "    print \"After %s iterations, s = %20.15f\" % (k+1,s)\n",
      "\n"
     ],
     "language": "python",
     "metadata": {},
     "outputs": [
      {
       "output_type": "stream",
       "stream": "stdout",
       "text": [
        "After 1 iterations, s =   13.000000000000000\n",
        "After 2 iterations, s =    7.461538461538462\n",
        "After 3 iterations, s =    5.406026962727994\n",
        "After 4 iterations, s =    5.015247601944898\n",
        "After 5 iterations, s =    5.000023178253949\n",
        "After 6 iterations, s =    5.000000000053722\n"
       ]
      }
     ],
     "prompt_number": 11
    },
    {
     "cell_type": "markdown",
     "metadata": {},
     "source": [
      "Newtons Methods approaches the correct answer rather quick, compared to the initial guess being $1$, which is relatively far from $5$. An automatic guess could be the fraction i.e\n",
      "\n",
      "$$                                             s = \\frac{x}{4}$$\n",
      "\n"
     ]
    },
    {
     "cell_type": "code",
     "collapsed": false,
     "input": [
      "x = 25.\n",
      "s = x/4.\n",
      "kmax = 6\n",
      "for k in range(kmax):\n",
      "    s = 1./2. * (s + x/s)\n",
      "    print \"After %s iterations, s = %20.15f\" % (k+1,s)"
     ],
     "language": "python",
     "metadata": {},
     "outputs": [
      {
       "output_type": "stream",
       "stream": "stdout",
       "text": [
        "After 1 iterations, s =    5.125000000000000\n",
        "After 2 iterations, s =    5.001524390243903\n",
        "After 3 iterations, s =    5.000000232305737\n",
        "After 4 iterations, s =    5.000000000000005\n",
        "After 5 iterations, s =    5.000000000000000\n",
        "After 6 iterations, s =    5.000000000000000\n"
       ]
      }
     ],
     "prompt_number": 12
    },
    {
     "cell_type": "markdown",
     "metadata": {},
     "source": [
      "Then the square root approximation algorithm has reached the correct $5$ already after 4 iterations, which is quite fair. \n",
      "\n",
      "Another situation is when we have a fixed point machine for implementing such an algorithm. In such a situation we have to work primarily with numbers which is a power of $2$. Any mulitplication or division with a power of two is normally done freely in since it can be done by a shifting the binary registers.\n",
      "\n",
      "\n",
      "When calculating the complex magnitude $M = \\sqrt{I^2 + Q^2}$ as described above a similar procedure can be utilized. To approximate the square root operation, the Binary-Shift Magitude Estimation can be used to estimate $M$.\n",
      "\n",
      "$$                                                  M \\approx \\sqrt{A\\text{M}_{ax} + B\\text{M}_{in}}$$\n"
     ]
    },
    {
     "cell_type": "code",
     "collapsed": false,
     "input": [
      "I = 3.\n",
      "J = 11.\n",
      "A = 15/16.\n",
      "B = 15/32.\n",
      "\n",
      "if I > J:\n",
      "    M = A*I + B*J\n",
      "else:\n",
      "    M = B*I + A*J\n",
      "print \"M = %10.5f\" %M\n",
      "\n",
      "M2 = sqrt(I**2 + J**2)\n",
      "print \"M = %10.5f\" %M2"
     ],
     "language": "python",
     "metadata": {},
     "outputs": [
      {
       "output_type": "stream",
       "stream": "stdout",
       "text": [
        "M =   11.71875\n",
        "M =   11.40175\n"
       ]
      }
     ],
     "prompt_number": 50
    },
    {
     "cell_type": "code",
     "collapsed": false,
     "input": [
      "I = 3\n",
      "J = 11\n",
      "print I, J\n",
      "A = 15\n",
      "B = 32\n",
      "\n",
      "if I > J:\n",
      "    M = A*I + B*J\n",
      "else:\n",
      "    M = B*I + A*J\n",
      "M = M >> 4\n",
      "print \"M = %10.5f\" %M\n",
      "\n",
      "M2 = sqrt(I**2 + J**2)\n",
      "print \"M = %10.5f\" %M2"
     ],
     "language": "python",
     "metadata": {},
     "outputs": [
      {
       "output_type": "stream",
       "stream": "stdout",
       "text": [
        "3 11\n",
        "M =   16.00000\n",
        "M =   11.40175\n"
       ]
      }
     ],
     "prompt_number": 75
    },
    {
     "cell_type": "code",
     "collapsed": false,
     "input": [
      "'''\n",
      "Module for approximating the square root\n",
      "Input\n",
      "        x: The number for which the square root is approximated.\n",
      "output\n",
      "        s:  The requested square root.\n",
      "'''\n",
      "def newton(x,debug=False):\n",
      "    '''newton(x)'''\n",
      "    \n",
      "    from numpy import nan\n",
      "\n",
      "    x = float(x)\n",
      "    if x==0.:\n",
      "        return 0.\n",
      "    elif x<0.:\n",
      "        print '*** Error, x must be nonnegative'\n",
      "        return nan\n",
      "    assert x>0. and type(x) is float,\"Unrecognized input\"\n",
      "    \n",
      "    s = x/5.\n",
      "    kmax = 100\n",
      "    tol = 1.e-14\n",
      "    for k in range(kmax):\n",
      "        if debug:\n",
      "            print \"Before iteration %s, s = %20.15f\" % (k,s)\n",
      "        s0 = s\n",
      "        s = 1./2. * (s + x/s)\n",
      "        delta_s = s - s0\n",
      "        if abs(delta_s / x) < tol:\n",
      "            break\n",
      "    if debug:\n",
      "        print \"After %s iterations, s = %20.15f\" % (k+1,s)\n",
      "    return s\n",
      "\n",
      "def test():\n",
      "    from numpy import sqrt\n",
      "    import mysqrt\n",
      "\n",
      "    xvalues =[0., 2., 100., 10000, 1.e-4]\n",
      "    for x in xvalues:\n",
      "        print 'Testing with x = %20.15e' % x\n",
      "        s = mysqrt.newton(x)\n",
      "        s_numpy = sqrt(x)\n",
      "        print 's = %20.15e,   numpy.sqrt = %20.15e' \\\n",
      "                % (s, s_numpy)\n",
      "        assert abs(s-s_numpy) < 1.e-14, \\\n",
      "                'Disagree for x = %20.15e' % x"
     ],
     "language": "python",
     "metadata": {},
     "outputs": []
    }
   ],
   "metadata": {}
  }
 ]
}