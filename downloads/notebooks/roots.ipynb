{
 "metadata": {
  "name": "",
  "signature": "sha256:88289277c9aa0fd77529adfb9924c1e71a8b9dfa2b3ecdfd998b3643ef7d42f0"
 },
 "nbformat": 3,
 "nbformat_minor": 0,
 "worksheets": [
  {
   "cells": [
    {
     "cell_type": "markdown",
     "metadata": {},
     "source": [
      "Since it sometimes is required to calculate the square root of some number. This job is straight forward by solving the 2nd order equation for the square root of 2 i.e. \n",
      "\n",
      "$$ x^2 \u2212 2 = 0 \\Rightarrow x = \\sqrt{2} \\approx 1.41$$\n",
      "\n",
      "\n",
      "However, when we need to define how a computer is suppose to calculate the square root, we can use numerical methods. (insert link here). I finished my B.Sc.EE project this semster. The project theme was embedded signal processing, and we designed and implemented a GFSK-Demodulator in a fixed point DSP. Therefore I came across some interesting algorithms for approximation of the square root in fixed point arithmetic. This is obvious subject for first blog post here, where I will demonstrate these in Python, starting with Newtons Method.\n",
      "\n",
      "Newtons Method is an iterative approach as seen here \n",
      "\n",
      "$$ s = \\frac{1}{2}(s + x/s)$$ , where is the number from which it is desired to calculate the square root."
     ]
    },
    {
     "cell_type": "code",
     "collapsed": false,
     "input": [
      "'''\n",
      "Module for approximating the square root\n",
      "Input\n",
      "        x: The number for which the square root is approximated.\n",
      "output\n",
      "        s:  The requested square root.\n",
      "'''\n",
      "def newton(x,debug=False):\n",
      "    '''newton(x)'''\n",
      "    \n",
      "    from numpy import nan\n",
      "\n",
      "    x = float(x)\n",
      "    if x==0.:\n",
      "        return 0.\n",
      "    elif x<0.:\n",
      "        print '*** Error, x must be nonnegative'\n",
      "        return nan\n",
      "    assert x>0. and type(x) is float,\"Unrecognized input\"\n",
      "    \n",
      "    s = x/5.\n",
      "    kmax = 100\n",
      "    tol = 1.e-14\n",
      "    for k in range(kmax):\n",
      "        if debug:\n",
      "            print \"Before iteration %s, s = %20.15f\" % (k,s)\n",
      "        s0 = s\n",
      "        s = 1./2. * (s + x/s)\n",
      "        delta_s = s - s0\n",
      "        if abs(delta_s / x) < tol:\n",
      "            break\n",
      "    if debug:\n",
      "        print \"After %s iterations, s = %20.15f\" % (k+1,s)\n",
      "    return s\n",
      "\n",
      "def test():\n",
      "    from numpy import sqrt\n",
      "    import mysqrt\n",
      "\n",
      "    xvalues =[0., 2., 100., 10000, 1.e-4]\n",
      "    for x in xvalues:\n",
      "        print 'Testing with x = %20.15e' % x\n",
      "        s = mysqrt.newton(x)\n",
      "        s_numpy = sqrt(x)\n",
      "        print 's = %20.15e,   numpy.sqrt = %20.15e' \\\n",
      "                % (s, s_numpy)\n",
      "        assert abs(s-s_numpy) < 1.e-14, \\\n",
      "                'Disagree for x = %20.15e' % x"
     ],
     "language": "python",
     "metadata": {},
     "outputs": []
    }
   ],
   "metadata": {}
  }
 ]
}